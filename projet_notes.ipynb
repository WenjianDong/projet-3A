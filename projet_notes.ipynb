{
  "nbformat": 4,
  "nbformat_minor": 0,
  "metadata": {
    "colab": {
      "name": "Untitled1.ipynb",
      "version": "0.3.2",
      "provenance": [],
      "include_colab_link": true
    },
    "kernelspec": {
      "name": "python3",
      "display_name": "Python 3"
    }
  },
  "cells": [
    {
      "cell_type": "markdown",
      "metadata": {
        "id": "view-in-github",
        "colab_type": "text"
      },
      "source": [
        "<a href=\"https://colab.research.google.com/github/dongwenjian/projet-3A/blob/master/projet_notes.ipynb\" target=\"_parent\"><img src=\"https://colab.research.google.com/assets/colab-badge.svg\" alt=\"Open In Colab\"/></a>"
      ]
    },
    {
      "metadata": {
        "id": "qgck3eZzh1ij",
        "colab_type": "text"
      },
      "cell_type": "markdown",
      "source": [
        "# Notes Projet-3A"
      ]
    },
    {
      "metadata": {
        "id": "VGbYeUSAh8gu",
        "colab_type": "text"
      },
      "cell_type": "markdown",
      "source": [
        "## Mix Keras function and keras Kayers when build Keras Model\n",
        "Bug: AttributeError: 'NoneType' object has no attribute 'inbound_nodes'\n",
        "Reason: to build a model, Keras require all the intermediate results to be layers, not return value of a function, even functions in Keras.backend. To overcome this, we can use keras.layers.Lambda(lambda ... : ...) to wrap a function into a layer"
      ]
    },
    {
      "metadata": {
        "id": "EgQWKwoWhqrh",
        "colab_type": "code",
        "colab": {
          "base_uri": "https://localhost:8080/",
          "height": 86
        },
        "outputId": "02ffd5ad-e5e2-4931-d42f-f0df4404f8c0"
      },
      "cell_type": "code",
      "source": [
        "import keras\n",
        "import tensorflow as tf\n",
        "\n",
        "my_input = keras.Input(shape=(100,), dtype='int32')\n",
        "print(my_input.shape)\n",
        "expand_fun = keras.layers.Lambda(lambda x: keras.backend.expand_dims(x, axis=2))\n",
        "my_exp = expand_fun(my_input)\n",
        "print(my_exp.shape)\n",
        "my_stack = keras.layers.Concatenate(axis=-1)([my_exp, my_exp])\n",
        "print(my_stack.shape)\n",
        "my_model = keras.Model(inputs=my_input, outputs=my_stack)"
      ],
      "execution_count": 1,
      "outputs": [
        {
          "output_type": "stream",
          "text": [
            "Using TensorFlow backend.\n"
          ],
          "name": "stderr"
        },
        {
          "output_type": "stream",
          "text": [
            "(?, 100)\n",
            "(?, 100, 1)\n",
            "(?, 100, 2)\n"
          ],
          "name": "stdout"
        }
      ]
    },
    {
      "metadata": {
        "id": "jQDuFcq2hy4u",
        "colab_type": "code",
        "colab": {}
      },
      "cell_type": "code",
      "source": [
        "d3_input = keras.Input(shape=(20, 100,), dtype='int32')\n",
        "td = keras.layers.TimeDistributed(my_model)(d3_input)\n",
        "print(td.shape)"
      ],
      "execution_count": 0,
      "outputs": []
    }
  ]
}