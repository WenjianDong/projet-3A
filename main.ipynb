{
 "cells": [
  {
   "cell_type": "code",
   "execution_count": null,
   "metadata": {},
   "outputs": [],
   "source": []
  },
  {
   "cell_type": "code",
   "execution_count": 8,
   "metadata": {},
   "outputs": [],
   "source": [
    "import warnings\n",
    "warnings.filterwarnings('ignore')\n",
    "%matplotlib inline\n",
    "\n",
    "import sys\n",
    "import os\n",
    "import json\n",
    "import numpy as np\n",
    "import matplotlib.pyplot as plt\n",
    "\n",
    "from time import strftime\n",
    "from gensim.models import KeyedVectors\n",
    "from sklearn.decomposition import PCA\n",
    "from nltk import sent_tokenize, word_tokenize\n",
    "\n",
    "import tensorflow as tf\n",
    "from keras.models import Model\n",
    "from keras import optimizers, backend as K\n",
    "from keras.backend.tensorflow_backend import _to_tensor\n",
    "from keras.callbacks import EarlyStopping, ModelCheckpoint\n",
    "from keras.layers import Input, Embedding, Dropout, Dense, TimeDistributed\n",
    "\n",
    "dataset_name = 'small'\n",
    "n_cats = 5 \n",
    "is_GPU = False # False\n",
    "n_units = 50\n",
    "max_doc_size_overall = 20 # max nb of sentences allowed per document\n",
    "max_sent_size_overall = 50 # max nb of words allowed per sentence\n",
    "drop_rate = 0.45\n",
    "my_loss = 'categorical_crossentropy'\n",
    "\n",
    "# replace with your own!\n",
    "path_root = '/home/dongwenjian/projet3A/data/' + dataset_name + '/'\n",
    "path_to_batches = path_root + '/batches/'\n",
    "path_to_save = '/home/dongwenjian/projet3A/results/' + dataset_name + '/'\n",
    "path_to_functions = '/home/dongwenjian/projet3A/codes/'\n",
    "\n",
    "# custom classes and functions\n",
    "sys.path.insert(0, path_to_functions)\n",
    "from AttentionWithContext import AttentionWithContext\n",
    "from CyclicalLearningRate import CyclicLR\n",
    "from CyclicalMomentum import CyclicMT\n",
    "from han_my_functions import read_batches, bidir_gru, PerClassAccHistory, LossHistory, AccHistory, LRHistory, MTHistory"
   ]
  },
  {
   "cell_type": "code",
   "execution_count": 2,
   "metadata": {},
   "outputs": [],
   "source": [
    "'''\n",
    "from gensim.test.utils import common_texts\n",
    "from gensim.models import Word2Vec\n",
    "model = Word2Vec(common_texts, size=100, window=5, min_count=1, workers=4)\n",
    "word_vectors = model.wv\n",
    "\n",
    "from gensim.test.utils import get_tmpfile\n",
    "from gensim.models import KeyedVectors\n",
    "fname = get_tmpfile(\"vectors.kv\")#This function return the corresponding file name with absolute path. \n",
    "            #It doesn't create any file\n",
    "word_vectors.save(fname)\n",
    "\n",
    "#I write this line, suppose the author's word_vector is the same with the one above \n",
    "gensim_obj = KeyedVectors.load(fname, mmap='r')\n",
    "\n",
    "#gensim_obj = KeyedVectors.load(path_root + 'word_vectors.kv', mmap='r') # needs an absolute path!\n",
    "word_vecs = gensim_obj.wv.syn0\n",
    "# add Gaussian initialized vector on top of embedding matrix (for padding)  #?? Why padding with gaussian noise??\n",
    "pad_vec = np.random.normal(size=word_vecs.shape[1]) \n",
    "word_vecs = np.insert(word_vecs,0,pad_vec,0)\n",
    "'''"
   ]
  },
  {
   "cell_type": "code",
   "execution_count": 3,
   "metadata": {},
   "outputs": [],
   "source": []
  },
  {
   "cell_type": "code",
   "execution_count": 3,
   "metadata": {},
   "outputs": [],
   "source": [
    "gensim_obj = KeyedVectors.load(path_root + 'word_vectors.kv', mmap='r') # needs an absolute path!\n",
    "word_vecs = gensim_obj.wv.syn0\n",
    "# add Gaussian initialized vector on top of embedding matrix (for padding)\n",
    "pad_vec = np.random.normal(size=word_vecs.shape[1]) \n",
    "word_vecs = np.insert(word_vecs,0,pad_vec,0)"
   ]
  },
  {
   "cell_type": "code",
   "execution_count": 5,
   "metadata": {},
   "outputs": [],
   "source": []
  },
  {
   "cell_type": "code",
   "execution_count": 4,
   "metadata": {},
   "outputs": [
    {
     "name": "stdout",
     "output_type": "stream",
     "text": [
      "(?, ?, 100)\n",
      "(?, 100)\n"
     ]
    }
   ],
   "source": [
    "sent_ints = Input(shape=(None,))  # input is one-hot vectors, or index vectors?\n",
    "sent_wv = Embedding(input_dim=word_vecs.shape[0],\n",
    "                    output_dim=word_vecs.shape[1],\n",
    "                    weights=[word_vecs], # To set the initial weights\n",
    "                    input_length=None, # sentence size vary from batch to batch\n",
    "                    trainable=True\n",
    "                    )(sent_ints)\n",
    "\n",
    "sent_wv_dr = Dropout(drop_rate)(sent_wv)\n",
    "sent_wa = bidir_gru(sent_wv_dr,n_units,is_GPU) # annotations for each word in the sentence\n",
    "sent_att_vec,sent_att_coeffs = AttentionWithContext(return_coefficients=True)(sent_wa) # attentional vector for the sentence\n",
    "sent_att_vec_dr = Dropout(drop_rate)(sent_att_vec)                      \n",
    "sent_encoder = Model(sent_ints,sent_att_vec_dr)\n",
    "\n",
    "print(sent_wa.shape)\n",
    "print(sent_att_vec_dr.shape)"
   ]
  },
  {
   "cell_type": "code",
   "execution_count": 5,
   "metadata": {},
   "outputs": [
    {
     "name": "stdout",
     "output_type": "stream",
     "text": [
      "(?, ?, 100)\n",
      "(?, ?, 100)\n",
      "(?, 100)\n"
     ]
    }
   ],
   "source": [
    "doc_ints = Input(shape=(None,None,))        \n",
    "sent_att_vecs_dr = TimeDistributed(sent_encoder)(doc_ints)\n",
    "doc_sa = bidir_gru(sent_att_vecs_dr,n_units,is_GPU) # annotations for each sentence in the document\n",
    "doc_att_vec,doc_att_coeffs = AttentionWithContext(return_coefficients=True)(doc_sa) # attentional vector for the document\n",
    "doc_att_vec_dr = Dropout(drop_rate)(doc_att_vec)\n",
    "\n",
    "print(sent_att_vecs_dr.shape)\n",
    "print(doc_sa.shape)\n",
    "print(doc_att_vec_dr.shape)"
   ]
  },
  {
   "cell_type": "code",
   "execution_count": 9,
   "metadata": {},
   "outputs": [
    {
     "name": "stdout",
     "output_type": "stream",
     "text": [
      "(?, 5)\n"
     ]
    }
   ],
   "source": [
    "preds = Dense(units=n_cats,\n",
    "              activation='softmax')(doc_att_vec_dr)\n",
    "\n",
    "han = Model(doc_ints,preds)\n",
    "# so that we can just load the initial weights instead of redifining the model later on\n",
    "han.save_weights(path_to_save + 'han_init_weights')\n",
    "\n",
    "print(preds.shape)"
   ]
  },
  {
   "cell_type": "code",
   "execution_count": null,
   "metadata": {},
   "outputs": [],
   "source": [
    "#Learning rate tests"
   ]
  },
  {
   "cell_type": "code",
   "execution_count": 10,
   "metadata": {},
   "outputs": [],
   "source": [
    "base_mt, max_mt = 0.85, 0.95\n",
    "batch_names = os.listdir(path_to_batches)\n",
    "batch_names_train = [elt for elt in batch_names if 'train_' in elt or 'val_' in elt]\n",
    "its_per_epoch_train = int(len(batch_names_train)/2) # /2 because there are batches for documents and labels\n",
    "\n",
    "nb_epochs = 6\n",
    "step_size = its_per_epoch_train*nb_epochs\n",
    "base_lr, max_lr = 0.001, 3"
   ]
  },
  {
   "cell_type": "code",
   "execution_count": 11,
   "metadata": {},
   "outputs": [],
   "source": [
    "my_optimizer = optimizers.SGD(lr=base_lr,\n",
    "                              momentum=max_mt, # we decrease momentum when lr increases\n",
    "                              decay=1e-5,\n",
    "                              nesterov=True)\n",
    "\n",
    "han.compile(loss=my_loss,\n",
    "            optimizer=my_optimizer,\n",
    "            metrics=['accuracy'])\n",
    "\n",
    "lr_sch = CyclicLR(base_lr=base_lr, \n",
    "                  max_lr=max_lr, \n",
    "                  step_size=step_size, \n",
    "                  mode='triangular')\n",
    "\n",
    "mt_sch = CyclicMT(base_mt=base_mt, \n",
    "                  max_mt=max_mt, \n",
    "                  step_size=step_size, \n",
    "                  mode='triangular')\n",
    "\n",
    "# batch-based callbacks\n",
    "loss_hist = LossHistory()\n",
    "acc_hist = AccHistory()\n",
    "lr_hist = LRHistory()\n",
    "mt_hist = MTHistory() \n",
    "\n",
    "# ! the order of the callbacks matters! If lr_sch before lr_callback, the new learning rate will be saved (not the current epoch's)\n",
    "callback_list = [loss_hist, acc_hist, lr_hist, mt_hist, lr_sch, mt_sch]"
   ]
  },
  {
   "cell_type": "code",
   "execution_count": 12,
   "metadata": {},
   "outputs": [],
   "source": [
    "rd_train = read_batches(batch_names_train,\n",
    "                        path_to_batches,\n",
    "                        do_shuffle=True,\n",
    "                        do_train=True,\n",
    "                        my_max_doc_size_overall=max_doc_size_overall,\n",
    "                        my_max_sent_size_overall=max_sent_size_overall,\n",
    "                        my_n_cats=n_cats)"
   ]
  },
  {
   "cell_type": "code",
   "execution_count": 13,
   "metadata": {},
   "outputs": [
    {
     "name": "stdout",
     "output_type": "stream",
     "text": [
      "Epoch 1/6\n",
      "28/28 [==============================] - 32s 1s/step - loss: 1.6393 - acc: 0.2039\n",
      "Epoch 2/6\n",
      "28/28 [==============================] - 33s 1s/step - loss: 1.6979 - acc: 0.2199\n",
      "Epoch 3/6\n",
      "28/28 [==============================] - 30s 1s/step - loss: nan - acc: 0.1856\n",
      "Epoch 4/6\n",
      "28/28 [==============================] - 30s 1s/step - loss: nan - acc: 0.1949\n",
      "Epoch 5/6\n",
      "28/28 [==============================] - 32s 1s/step - loss: nan - acc: 0.1949\n",
      "Epoch 6/6\n",
      "28/28 [==============================] - 32s 1s/step - loss: nan - acc: 0.1949\n"
     ]
    },
    {
     "data": {
      "text/plain": [
       "<keras.callbacks.History at 0x7f5224fc07b8>"
      ]
     },
     "execution_count": 13,
     "metadata": {},
     "output_type": "execute_result"
    }
   ],
   "source": [
    "han.fit_generator(rd_train, \n",
    "                  steps_per_epoch=its_per_epoch_train, \n",
    "                  epochs=nb_epochs,\n",
    "                  callbacks=callback_list,\n",
    "                  validation_data=None, \n",
    "                  validation_steps=None,\n",
    "                  use_multiprocessing=False, # only works with keras.utils.Sequence class (duplicate batches when used with generators)\n",
    "                  workers=1)"
   ]
  },
  {
   "cell_type": "code",
   "execution_count": 14,
   "metadata": {},
   "outputs": [],
   "source": [
    "hist = han.history.history\n",
    "hist['batch_loss'] = loss_hist.loss_avg\n",
    "hist['batch_acc'] = acc_hist.acc_avg\n",
    "hist['batch_lr'] = lr_hist.lrs\n",
    "hist['batch_mt'] = mt_hist.mts\n",
    "\n",
    "hist = {k: [str(elt) for elt in v] for k, v in hist.items()}\n",
    "with open(path_to_save + 'han_lr_range_test_trainval_history.json', 'w') as my_file:\n",
    "    json.dump(hist, my_file, sort_keys=False, indent=4)\n"
   ]
  },
  {
   "cell_type": "code",
   "execution_count": 15,
   "metadata": {},
   "outputs": [
    {
     "data": {
      "image/png": "[encoded data removed]",
      "text/plain": [
       "<Figure size 2160x504 with 3 Axes>"
      ]
     },
     "metadata": {},
     "output_type": "display_data"
    }
   ],
   "source": [
    "with open(path_to_save + 'han_lr_range_test_trainval_history.json' , 'r', encoding='utf8') as my_file:\n",
    "    hist = json.load(my_file)\n",
    "\n",
    "hist = {k:list(map(float,v)) for k,v in hist.items()} # convert strings to floats\n",
    "\n",
    "n_its_plot = 2000\n",
    "acc_plot = [elt for idx,elt in enumerate(hist['batch_acc'],1) if idx%n_its_plot==0]\n",
    "loss_plot = [elt for idx,elt in enumerate(hist['batch_loss'],1) if idx%n_its_plot==0]\n",
    "lr_plot = [elt for idx,elt in enumerate(hist['batch_lr'],1) if idx%n_its_plot==0]\n",
    "\n",
    "fig = plt.figure(figsize=(30,7))\n",
    "\n",
    "plt.subplot(1,3,1)\n",
    "plt.plot(range(len(hist['batch_lr'])),hist['batch_lr'])\n",
    "plt.xlabel('iterations')\n",
    "plt.ylabel('learning rate')\n",
    "plt.grid(True)\n",
    "plt.title('Learning Rate Evolution')\n",
    "\n",
    "plt.subplot(1,3,2)\n",
    "plt.plot(lr_plot,acc_plot)\n",
    "plt.xlabel('learning rate')\n",
    "plt.ylabel('training accuracy')\n",
    "plt.grid(True)\n",
    "plt.title('Learning Rate Range Test')\n",
    "\n",
    "plt.subplot(1,3,3)\n",
    "plt.plot(lr_plot,loss_plot)\n",
    "plt.xlabel('learning rate')\n",
    "plt.ylabel('training loss')\n",
    "plt.grid(True)\n",
    "plt.title('Learning Rate Range Test')\n",
    "\n",
    "plt.show()"
   ]
  },
  {
   "cell_type": "code",
   "execution_count": null,
   "metadata": {},
   "outputs": [],
   "source": []
  },
  {
   "cell_type": "code",
   "execution_count": null,
   "metadata": {},
   "outputs": [],
   "source": []
  },
  {
   "cell_type": "code",
   "execution_count": null,
   "metadata": {},
   "outputs": [],
   "source": []
  },
  {
   "cell_type": "code",
   "execution_count": null,
   "metadata": {},
   "outputs": [],
   "source": []
  },
  {
   "cell_type": "code",
   "execution_count": null,
   "metadata": {},
   "outputs": [],
   "source": []
  },
  {
   "cell_type": "code",
   "execution_count": 14,
   "metadata": {},
   "outputs": [
    {
     "name": "stdout",
     "output_type": "stream",
     "text": [
      "1 one\n",
      "2 two\n",
      "3 three\n"
     ]
    }
   ],
   "source": [
    "numberList = [1, 2, 3]\n",
    "strList = ['one', 'two', 'three']\n",
    "for (i, a) in zip(numberList, strList):\n",
    "    print(i,a)"
   ]
  },
  {
   "cell_type": "code",
   "execution_count": 21,
   "metadata": {},
   "outputs": [
    {
     "ename": "SyntaxError",
     "evalue": "invalid syntax (<ipython-input-21-def8bed8b7f0>, line 2)",
     "output_type": "error",
     "traceback": [
      "\u001b[0;36m  File \u001b[0;32m\"<ipython-input-21-def8bed8b7f0>\"\u001b[0;36m, line \u001b[0;32m2\u001b[0m\n\u001b[0;31m    print(a if a > 0)\u001b[0m\n\u001b[0m                    ^\u001b[0m\n\u001b[0;31mSyntaxError\u001b[0m\u001b[0;31m:\u001b[0m invalid syntax\n"
     ]
    }
   ],
   "source": [
    "a = 123\n",
    "print(a if a > 0)"
   ]
  },
  {
   "cell_type": "code",
   "execution_count": 18,
   "metadata": {},
   "outputs": [
    {
     "data": {
      "text/plain": [
       "['two', 'three']"
      ]
     },
     "execution_count": 18,
     "metadata": {},
     "output_type": "execute_result"
    }
   ],
   "source": [
    "[elt for elt in strList if 't' in elt]"
   ]
  },
  {
   "cell_type": "code",
   "execution_count": 22,
   "metadata": {},
   "outputs": [
    {
     "data": {
      "text/plain": [
       "[2, 3]"
      ]
     },
     "execution_count": 22,
     "metadata": {},
     "output_type": "execute_result"
    }
   ],
   "source": [
    "[elt for elt in numberList if elt > 1.5]"
   ]
  },
  {
   "cell_type": "code",
   "execution_count": 24,
   "metadata": {},
   "outputs": [
    {
     "name": "stdout",
     "output_type": "stream",
     "text": [
      "\\d+\n"
     ]
    }
   ],
   "source": [
    "print('\\d')"
   ]
  },
  {
   "cell_type": "code",
   "execution_count": null,
   "metadata": {},
   "outputs": [],
   "source": []
  }
 ],
 "metadata": {
  "kernelspec": {
   "display_name": "Python 3",
   "language": "python",
   "name": "python3"
  },
  "language_info": {
   "codemirror_mode": {
    "name": "ipython",
    "version": 3
   },
   "file_extension": ".py",
   "mimetype": "text/x-python",
   "name": "python",
   "nbconvert_exporter": "python",
   "pygments_lexer": "ipython3",
   "version": "3.6.5"
  }
 },
 "nbformat": 4,
 "nbformat_minor": 2
}
